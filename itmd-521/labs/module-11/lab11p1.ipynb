{
 "cells": [
  {
   "cell_type": "code",
   "execution_count": null,
   "metadata": {
    "vscode": {
     "languageId": "plaintext"
    }
   },
   "outputs": [],
   "source": [
    "from pyspark import SparkConf\n",
    "from pyspark.sql import SparkSession\n",
    "import os\n",
    "\n",
    "# Reading credentials directly\n",
    "creds_file = open(f\"/home/{os.getenv('USER')}/creds.txt\", \"r\").read().strip().split(\",\")\n",
    "accesskey, secretkey = creds_file[0], creds_file[1]\n",
    "\n",
    "db_creds_file = open(f\"/home/{os.getenv('USER')}/database-creds.txt\", \"r\").read().strip().split(\",\")\n",
    "dbusername, dbpassword = db_creds_file[0], db_creds_file[1]\n",
    "\n",
    "# Spark configuration\n",
    "conf = SparkConf()\n",
    "conf.set('spark.jars.packages', 'org.apache.hadoop:hadoop-aws:3.2.3,mysql:mysql-connector-java:8.0.33')\n",
    "conf.set('spark.hadoop.fs.s3a.aws.credentials.provider', 'org.apache.hadoop.fs.s3a.SimpleAWSCredentialsProvider')\n",
    "conf.set('spark.hadoop.fs.s3a.access.key', accesskey)\n",
    "conf.set('spark.hadoop.fs.s3a.secret.key', secretkey)\n",
    "conf.set('spark.hadoop.fs.s3a.path.style.access', 'true')\n",
    "conf.set('spark.hadoop.fs.s3a.impl', 'org.apache.hadoop.fs.s3a.S3AFileSystem')\n",
    "conf.set('spark.hadoop.fs.s3a.committer.magic.enabled', 'true')\n",
    "conf.set('spark.hadoop.fs.s3a.committer.name', 'magic')\n",
    "conf.set(\"spark.hadoop.fs.s3a.endpoint\", \"http://system54.rice.iit.edu\")\n",
    "conf.setMaster(\"spark://sm.service.consul:7077\")\n",
    "conf.set(\"spark.driver.memory\", \"8g\")\n",
    "conf.set(\"spark.executor.memory\", \"16g\")\n",
    "conf.set(\"spark.cores.max\", '10')\n",
    "conf.set('spark.executor.cores', '1')\n",
    "\n",
    "# Spark session initialization\n",
    "spark = SparkSession.builder.appName(\"rharidasu_50parquet\") \\\n",
    "    .config('spark.driver.host', 'spark-edge.service.consul').config(conf=conf).getOrCreate()\n",
    "\n",
    "\n",
    "# Reading Parquet file\n",
    "df = spark.read.parquet('s3a://rharidasu/output/50.parquet')\n",
    "df.printSchema()\n",
    "\n",
    "# Writing to MySQL database\n",
    "df.write \\\n",
    "    .format(\"jdbc\") \\\n",
    "    .option(\"url\", \"jdbc:mysql://system75.rice.iit.edu:3306/rharidasu\") \\\n",
    "    .option(\"driver\", \"com.mysql.cj.jdbc.Driver\") \\\n",
    "    .option(\"dbtable\", \"dbrc50\") \\\n",
    "    .option(\"user\", dbusername) \\\n",
    "    .option(\"password\", dbpassword) \\\n",
    "    .mode(\"overwrite\") \\\n",
    "    .option(\"truncate\", \"true\") \\\n",
    "    .save()\n",
    "\n",
    "# Stop Spark session at the end\n",
    "spark.stop()\n"
   ]
  }
 ],
 "metadata": {
  "language_info": {
   "name": "python"
  }
 },
 "nbformat": 4,
 "nbformat_minor": 2
}
